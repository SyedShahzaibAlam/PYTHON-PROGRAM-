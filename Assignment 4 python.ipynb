{
 "cells": [
  {
   "cell_type": "code",
   "execution_count": 1,
   "id": "fd4837df",
   "metadata": {},
   "outputs": [
    {
     "name": "stdout",
     "output_type": "stream",
     "text": [
      "Select operation.\n",
      "a.Add\n",
      "s.Subtract\n",
      "m.Multiply\n",
      "d.Divide\n",
      "p.Power\n",
      "Enter choice(a/s/m/d/p): a\n",
      "Enter first number: 2\n",
      "Enter second number: 2\n",
      "2.0 + 2.0 = 4.0\n",
      "do another calculation? (yes/no): yes\n",
      "Enter choice(a/s/m/d/p): p\n",
      "Enter first number: 7\n",
      "Enter second number: 7\n",
      "7.0 ^ 7.0 = 823543.0\n",
      "do another calculation? (yes/no): no\n"
     ]
    }
   ],
   "source": [
    "# Q:1. Make a calculator using Python with addition , subtraction ,\n",
    "# multiplication ,division and power.\n",
    "\n",
    "def add(x, y):\n",
    "    return x + y\n",
    "\n",
    "def subtract(x, y):\n",
    "    return x - y\n",
    "\n",
    "def multiply(x, y):\n",
    "    return x * y\n",
    "\n",
    "def divide(x, y):\n",
    "    return x / y\n",
    "\n",
    "\n",
    "def power (x, y):\n",
    "    return pow (x , y)\n",
    "\n",
    "print(\"Select operation.\")\n",
    "print(\"a.Add\")\n",
    "print(\"s.Subtract\")\n",
    "print(\"m.Multiply\")\n",
    "print(\"d.Divide\")\n",
    "print(\"p.Power\")\n",
    "\n",
    "while True:\n",
    "    choice = input(\"Enter choice(a/s/m/d/p): \")\n",
    "\n",
    "    if choice in ('a', 's', 'm', 'd' ,'p'):\n",
    "        num1 = float(input(\"Enter first number: \"))\n",
    "        num2 = float(input(\"Enter second number: \"))\n",
    "\n",
    "        if choice == 'a':\n",
    "            print(num1, \"+\", num2, \"=\", add(num1, num2))\n",
    "\n",
    "        elif choice == 's':\n",
    "            print(num1, \"-\", num2, \"=\", subtract(num1, num2))\n",
    "\n",
    "        elif choice == 'm':\n",
    "            print(num1, \"*\", num2, \"=\", multiply(num1, num2))\n",
    "\n",
    "        elif choice == 'd':\n",
    "            print(num1, \"/\", num2, \"=\", divide(num1, num2))\n",
    "\n",
    "        \n",
    "        elif choice == 'p':\n",
    "            print(num1, \"^\", num2, \"=\", power(num1, num2))    \n",
    "        \n",
    "    \n",
    "        next_calculation = input(\"do another calculation? (yes/no): \")\n",
    "        if next_calculation == \"no\":\n",
    "          break\n",
    "    \n",
    "    else:\n",
    "        print(\"Invalid Input\")\n",
    "\n"
   ]
  },
  {
   "cell_type": "code",
   "execution_count": 5,
   "id": "f4295502",
   "metadata": {},
   "outputs": [
    {
     "name": "stdout",
     "output_type": "stream",
     "text": [
      "1\n",
      "2\n",
      "3\n",
      "4\n"
     ]
    }
   ],
   "source": [
    "# 2 Write a program to check if there is any numeric value in list using for loop.\n",
    "alist =[\"a\",\"b\",\"c\",\"d\",1,\"e\",2,\"f\",3,4]\n",
    "for x in alist:\n",
    "    if type(x) == int:\n",
    "        print (x)\n",
    "        "
   ]
  },
  {
   "cell_type": "code",
   "execution_count": 6,
   "id": "5df53f0d",
   "metadata": {},
   "outputs": [
    {
     "name": "stdout",
     "output_type": "stream",
     "text": [
      "{0: 1, 1: 2}\n"
     ]
    }
   ],
   "source": [
    "# 3. Write a Python script to add a key to a dictionary.\n",
    "dictionary = {0:1, 1:2}\n",
    "print(dictionary)"
   ]
  },
  {
   "cell_type": "code",
   "execution_count": 7,
   "id": "dd3566b0",
   "metadata": {},
   "outputs": [
    {
     "name": "stdout",
     "output_type": "stream",
     "text": [
      "Enter total number of key value: 2\n",
      "enter the key: two\n",
      "enter the value: 2\n",
      "MY dictionary {'two': 2}\n",
      "enter the key: one\n",
      "enter the value: 4\n",
      "MY dictionary {'two': 2, 'one': 4}\n",
      "sum of all numeric values 6\n"
     ]
    }
   ],
   "source": [
    "#4 Write a Python program to sum all the numeric items in a dictionary.\n",
    "\n",
    "n =int(input(\"Enter total number of key value: \"))\n",
    "d ={}\n",
    "for i in range(0,n,1):\n",
    "    k = input(\"enter the key: \")\n",
    "    v = int(input(\"enter the value: \"))\n",
    "    d.update({k:v})\n",
    "\n",
    "    print(\"MY dictionary\" , d)\n",
    "\n",
    "    svalue = sum (d.values())\n",
    "print (\"sum of all numeric values\" ,svalue)"
   ]
  },
  {
   "cell_type": "code",
   "execution_count": 8,
   "id": "41f0beae",
   "metadata": {},
   "outputs": [
    {
     "name": "stdout",
     "output_type": "stream",
     "text": [
      "2 3 4 5 "
     ]
    }
   ],
   "source": [
    "# 5 Write a program to identify duplicate values from list.\n",
    "list=[1,2,3,4,5,2,3,4,7,9,5]\n",
    "list1=[]\n",
    "for i in list:\n",
    "    if i not in list1:\n",
    "        list1.append(i)\n",
    "    else:\n",
    "        print(i,end=' ')"
   ]
  },
  {
   "cell_type": "code",
   "execution_count": 10,
   "id": "54cf33d2",
   "metadata": {},
   "outputs": [
    {
     "name": "stdout",
     "output_type": "stream",
     "text": [
      "The given dictionary :  {'Mon': 3, 'Tue': 5, 'Wed': 6, 'Thu': 9}\n",
      "Thu is Present.\n"
     ]
    }
   ],
   "source": [
    "        #6\n",
    "# Write a Python script to check if a given key already exists in a dictionary \n",
    "\n",
    "\n",
    "dict = {'Mon':3,'Tue':5,'Wed':6,'Thu':9}\n",
    "print(\"The given dictionary : \",dict)\n",
    "check_key = \"Thu\"\n",
    "if check_key in dict.keys():\n",
    "   print(check_key,\"is Present.\")\n",
    "else:\n",
    "   print(check_key, \" is not Present.\")\n"
   ]
  },
  {
   "cell_type": "code",
   "execution_count": null,
   "id": "759afe2e",
   "metadata": {},
   "outputs": [],
   "source": []
  }
 ],
 "metadata": {
  "kernelspec": {
   "display_name": "Python 3",
   "language": "python",
   "name": "python3"
  },
  "language_info": {
   "codemirror_mode": {
    "name": "ipython",
    "version": 3
   },
   "file_extension": ".py",
   "mimetype": "text/x-python",
   "name": "python",
   "nbconvert_exporter": "python",
   "pygments_lexer": "ipython3",
   "version": "3.8.8"
  }
 },
 "nbformat": 4,
 "nbformat_minor": 5
}
