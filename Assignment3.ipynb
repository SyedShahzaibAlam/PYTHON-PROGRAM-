{
 "cells": [
  {
   "cell_type": "code",
   "execution_count": 1,
   "id": "cc4c7261",
   "metadata": {},
   "outputs": [
    {
     "name": "stdout",
     "output_type": "stream",
     "text": [
      "Twinkle, twinkle, little star,\n",
      "\tHow I wonder what you are!\n",
      "\t\tUp above the world so high,\n",
      "\t\tLike a diamond in the sky.\n",
      "Twinkle, twinkle, little star,\n",
      "\tHow I wonder what you are\n"
     ]
    }
   ],
   "source": [
    "# 1. Write a Python program to print the following string in a specific format (see the\n",
    "# output).\n",
    "\n",
    "# Twinkle, twinkle, little star,\n",
    "# How I wonder what you are!\n",
    "# Up above the world so high,\n",
    "# Like a diamond in the sky.\n",
    "\n",
    "# Twinkle, twinkle, little star,\n",
    "# How I wonder what you are\n",
    "print(\"Twinkle, twinkle, little star,\\n\\tHow I wonder what you are!\\n\\t\\tUp above the world so high,\\n\\t\\tLike a diamond in the sky.\\nTwinkle, twinkle, little star,\\n\\tHow I wonder what you are\")\n"
   ]
  },
  {
   "cell_type": "code",
   "execution_count": 2,
   "id": "a458f6b9",
   "metadata": {},
   "outputs": [
    {
     "name": "stdout",
     "output_type": "stream",
     "text": [
      "python version\n",
      "3.8.8 (default, Apr 13 2021, 19:58:26) \n",
      "[GCC 7.3.0]\n"
     ]
    }
   ],
   "source": [
    "# 2. Write a Python program to get the Python version you are using\n",
    "import sys\n",
    "print(\"python version\")\n",
    "print(sys.version)\n"
   ]
  },
  {
   "cell_type": "code",
   "execution_count": 3,
   "id": "7d55625a",
   "metadata": {},
   "outputs": [
    {
     "name": "stdout",
     "output_type": "stream",
     "text": [
      "current date and time is:\n",
      "21-10-24 14:34:09\n"
     ]
    }
   ],
   "source": [
    "# 3. Write a Python program to display the current date and time.\n",
    "import datetime\n",
    "now = datetime.datetime.now()\n",
    "print(\"current date and time is:\")\n",
    "print(now.strftime(\"%y-%m-%d %H:%M:%S\"))"
   ]
  },
  {
   "cell_type": "code",
   "execution_count": 4,
   "id": "ad6ad91d",
   "metadata": {},
   "outputs": [
    {
     "name": "stdout",
     "output_type": "stream",
     "text": [
      "enter radius of circle :12\n",
      "area of circle is : 452.3893421169302\n"
     ]
    }
   ],
   "source": [
    "#4. Write a Python program which accepts the radius of a circle from the user and compute\n",
    "# the area.\n",
    "import math\n",
    "radius = float(input(\"enter radius of circle :\"))\n",
    "area = math.pi * radius * radius\n",
    "print (\"area of circle is : {0}\".format(area))"
   ]
  },
  {
   "cell_type": "code",
   "execution_count": 5,
   "id": "924098dc",
   "metadata": {},
   "outputs": [
    {
     "name": "stdout",
     "output_type": "stream",
     "text": [
      "ENTER YOUR FIRST NAME: syed\n",
      "ENTER YOUR LAST NAME:shahzaib\n",
      "FIRST AND LAST NAME IN REVERSE:shahzaib syed\n"
     ]
    }
   ],
   "source": [
    "#5. Write a Python program which accepts the user's first and last name and print them in\n",
    "# reverse order with a space between them.\n",
    "firstName = input(\"ENTER YOUR FIRST NAME: \")\n",
    "lastName = input(\"ENTER YOUR LAST NAME:\")\n",
    "print(\"FIRST AND LAST NAME IN REVERSE:\" + lastName + \" \" +firstName)"
   ]
  },
  {
   "cell_type": "code",
   "execution_count": 6,
   "id": "9963b37e",
   "metadata": {},
   "outputs": [
    {
     "name": "stdout",
     "output_type": "stream",
     "text": [
      "ENTER THE VALUE OF a:2\n",
      "ENTER THE VALUE OF b:9\n",
      "sum 11\n"
     ]
    }
   ],
   "source": [
    "#6. Write a python program which takes two inputs from user and print them addition\n",
    "a = int(input(\"ENTER THE VALUE OF a:\"))\n",
    "b = int(input(\"ENTER THE VALUE OF b:\"))\n",
    "print(\"sum\",a+b)"
   ]
  },
  {
   "cell_type": "code",
   "execution_count": 7,
   "id": "3cfb9440",
   "metadata": {},
   "outputs": [
    {
     "name": "stdout",
     "output_type": "stream",
     "text": [
      "Enter Marks Obtained in 5 Subjects: \n",
      "Enter marks of the first subject: 90\n",
      "Enter marks of the second subject: 90\n",
      "Enter marks of the third subject: 90\n",
      "Enter marks of the fourth subject: 90\n",
      "Enter marks of the fifth subject: 90\n",
      "Your Grade is A\n"
     ]
    }
   ],
   "source": [
    "#7. Write a program which takes 5 inputs from user for different subject’s marks, total it\n",
    "# and generate mark sheet using grades ?\n",
    "print(\"Enter Marks Obtained in 5 Subjects: \")\n",
    "markOne = int(input(\"Enter marks of the first subject: \"))\n",
    "markTwo = int(input(\"Enter marks of the second subject: \"))\n",
    "markThree = int(input(\"Enter marks of the third subject: \"))\n",
    "markFour = int(input(\"Enter marks of the fourth subject: \"))\n",
    "markFive = int(input(\"Enter marks of the fifth subject: \"))\n",
    "\n",
    "tot = markOne+markTwo+markThree+markFour+markFive\n",
    "avg = tot/5\n",
    "\n",
    "if avg>=91 and avg<=100:\n",
    "    print(\"Your Grade is A+\")\n",
    "elif avg>=81 and avg<91:\n",
    "    print(\"Your Grade is A\")\n",
    "elif avg>=71 and avg<81:\n",
    "    print(\"Your Grade is B+\")\n",
    "elif avg>=61 and avg<71:\n",
    "    print(\"Your Grade is B\")\n",
    "elif avg>=41 and avg<61:\n",
    "    print(\"Your Grade is C\")\n",
    "elif avg>=33 and avg<41:\n",
    "    print(\"Your Grade is D\")\n",
    "elif avg>=21 and avg<33:\n",
    "    print(\"Your Grade is E\")\n",
    "elif avg>=0 and avg<21:\n",
    "    print(\"Your Grade is F\")\n",
    "else:\n",
    "    print(\"Invalid Input!\")"
   ]
  },
  {
   "cell_type": "code",
   "execution_count": 8,
   "id": "e6a9461e",
   "metadata": {},
   "outputs": [
    {
     "name": "stdout",
     "output_type": "stream",
     "text": [
      "enter an integer number45\n",
      "45 is an odd number\n"
     ]
    }
   ],
   "source": [
    "#8. Write a program which take input from user and identify that the given number is even\n",
    "# or odd?\n",
    "number = int(input(\"enter an integer number\"))\n",
    "remainder = number % 2\n",
    "if (remainder == 0):\n",
    "    print(number,\"is an even number\")\n",
    "else:\n",
    "    print(number,\"is an odd number\")    "
   ]
  },
  {
   "cell_type": "code",
   "execution_count": 9,
   "id": "f46ea699",
   "metadata": {},
   "outputs": [
    {
     "name": "stdout",
     "output_type": "stream",
     "text": [
      "7\n"
     ]
    }
   ],
   "source": [
    "#9. Write a program which print the length of the list?\n",
    "lst = [1,2,3,4,5,\"ab\",\"bc\"]\n",
    "print(len(lst))"
   ]
  },
  {
   "cell_type": "code",
   "execution_count": 10,
   "id": "367028b4",
   "metadata": {},
   "outputs": [
    {
     "name": "stdout",
     "output_type": "stream",
     "text": [
      "sum of list: 55\n"
     ]
    }
   ],
   "source": [
    "#10.Write a Python program to sum all the numeric items in a list?\n",
    "lst=[1,2,3,4,5,6,7,8,9,10]\n",
    "SUM=sum(lst)\n",
    "print(\"sum of list:\", SUM); "
   ]
  },
  {
   "cell_type": "code",
   "execution_count": 11,
   "id": "d0dea682",
   "metadata": {},
   "outputs": [
    {
     "name": "stdout",
     "output_type": "stream",
     "text": [
      "largest number is: 1000\n"
     ]
    }
   ],
   "source": [
    "#11.Write a Python program to get the largest number from a numeric list.                                   \n",
    "lst=[10,20,30,40,50,80,90,60,1000,23]\n",
    "lst.sort()\n",
    "print(\"largest number is:\",lst[-1])"
   ]
  },
  {
   "cell_type": "code",
   "execution_count": 12,
   "id": "b0544d0f",
   "metadata": {},
   "outputs": [
    {
     "name": "stdout",
     "output_type": "stream",
     "text": [
      "[1, 1, 2, 3]\n"
     ]
    }
   ],
   "source": [
    "#12. Take a list, say for example this one:\n",
    "# a = [1, 1, 2, 3, 5, 8, 13, 21, 34, 55, 89]\n",
    "# Write a program that prints out all the elements of the list that are less than 5.                       \n",
    "a = [1, 1, 2, 3, 5, 8, 13, 21, 34, 55, 89]\n",
    "lista=[]\n",
    "for i in a:\n",
    "    if i<5:\n",
    "        lista.append(i)\n",
    "print(lista)        "
   ]
  },
  {
   "cell_type": "code",
   "execution_count": null,
   "id": "b34bf180",
   "metadata": {},
   "outputs": [],
   "source": []
  }
 ],
 "metadata": {
  "kernelspec": {
   "display_name": "Python 3",
   "language": "python",
   "name": "python3"
  },
  "language_info": {
   "codemirror_mode": {
    "name": "ipython",
    "version": 3
   },
   "file_extension": ".py",
   "mimetype": "text/x-python",
   "name": "python",
   "nbconvert_exporter": "python",
   "pygments_lexer": "ipython3",
   "version": "3.8.8"
  }
 },
 "nbformat": 4,
 "nbformat_minor": 5
}
